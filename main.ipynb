{
 "cells": [
  {
   "cell_type": "code",
   "execution_count": 1,
   "metadata": {},
   "outputs": [],
   "source": [
    "from pytubefix import (\n",
    "    YouTube, \n",
    "    #Playlist\n",
    ")\n",
    "from pytubefix.cli import on_progress"
   ]
  },
  {
   "cell_type": "code",
   "execution_count": 2,
   "metadata": {},
   "outputs": [
    {
     "name": "stdout",
     "output_type": "stream",
     "text": [
      "Statistics - A Full Lecture to learn Data Science\n",
      "360p████████████████████████████████████████████| 100.0%\n"
     ]
    }
   ],
   "source": [
    "\n",
    " \n",
    "url = \"https://www.youtube.com/watch?v=Ym1iH8-GQOE&t=80s\"\n",
    " \n",
    "yt = YouTube(url, on_progress_callback = on_progress)\n",
    "print(yt.title)\n",
    " \n",
    "ys = yt.streams.get_highest_resolution()\n",
    "\n",
    "\n",
    "ys.download('./statistics')\n",
    "print(ys.resolution)"
   ]
  },
  {
   "cell_type": "markdown",
   "metadata": {},
   "source": [
    "## Playlist"
   ]
  },
  {
   "cell_type": "code",
   "execution_count": 3,
   "metadata": {},
   "outputs": [
    {
     "data": {
      "text/plain": [
       "' url = \"https://www.youtube.com/playlist?list=PL4cUxeGkcC9hcnIeryurNMMcGBHp7AYlP\"\\n\\npl = Playlist(url)\\n\\n\\n\\nfor video in pl.videos:\\n    ys = video.streams.get_highest_resolution()\\n#    ys.download(\\'./chakraui\\') '"
      ]
     },
     "execution_count": 3,
     "metadata": {},
     "output_type": "execute_result"
    }
   ],
   "source": [
    "\n",
    "\"\"\" url = \"https://www.youtube.com/playlist?list=PL4cUxeGkcC9hcnIeryurNMMcGBHp7AYlP\"\n",
    "\n",
    "pl = Playlist(url)\n",
    "\n",
    "\n",
    "\n",
    "for video in pl.videos:\n",
    "    ys = video.streams.get_highest_resolution()\n",
    "#    ys.download('./chakraui') \"\"\""
   ]
  },
  {
   "cell_type": "code",
   "execution_count": null,
   "metadata": {},
   "outputs": [],
   "source": []
  }
 ],
 "metadata": {
  "kernelspec": {
   "display_name": "Python 3",
   "language": "python",
   "name": "python3"
  },
  "language_info": {
   "codemirror_mode": {
    "name": "ipython",
    "version": 3
   },
   "file_extension": ".py",
   "mimetype": "text/x-python",
   "name": "python",
   "nbconvert_exporter": "python",
   "pygments_lexer": "ipython3",
   "version": "3.13.0"
  }
 },
 "nbformat": 4,
 "nbformat_minor": 2
}
