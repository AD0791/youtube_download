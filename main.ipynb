{
 "cells": [
  {
   "cell_type": "code",
   "execution_count": 1,
   "metadata": {},
   "outputs": [],
   "source": [
    "from pytubefix import (\n",
    "    YouTube, \n",
    "    Playlist\n",
    ")\n",
    "from pytubefix.cli import on_progress"
   ]
  },
  {
   "cell_type": "code",
   "execution_count": 2,
   "metadata": {},
   "outputs": [
    {
     "name": "stdout",
     "output_type": "stream",
     "text": [
      "Exploring The Wordpress REST API & React Integration\n",
      "360p████████████████████████████████████████████| 100.0%\n"
     ]
    }
   ],
   "source": [
    "\n",
    " \n",
    "url = \"https://www.youtube.com/watch?v=fFNXWinbgro\"\n",
    " \n",
    "yt = YouTube(url, on_progress_callback = on_progress)\n",
    "print(yt.title)\n",
    " \n",
    "ys = yt.streams.get_highest_resolution()\n",
    "\n",
    "\n",
    "ys.download('./wp_react')\n",
    "print(ys.resolution)"
   ]
  },
  {
   "cell_type": "markdown",
   "metadata": {},
   "source": [
    "## Playlist"
   ]
  },
  {
   "cell_type": "code",
   "execution_count": 3,
   "metadata": {},
   "outputs": [
    {
     "name": "stdout",
     "output_type": "stream",
     "text": [
      "360p\n"
     ]
    }
   ],
   "source": [
    "\n",
    "url = \"https://www.youtube.com/playlist?list=PLa9NMvQUMD5eH9-Fney5J6Hvhz4qOS-1q\"\n",
    "\n",
    "pl = Playlist(url)\n",
    "\n",
    "\n",
    "\n",
    "for video in pl.videos:\n",
    "    ys2 = video.streams.get_highest_resolution()\n",
    "    ys2.download('./wp_react_list')\n",
    "\n",
    "print(ys2.resolution)"
   ]
  },
  {
   "cell_type": "code",
   "execution_count": null,
   "metadata": {},
   "outputs": [],
   "source": []
  }
 ],
 "metadata": {
  "kernelspec": {
   "display_name": "Python 3",
   "language": "python",
   "name": "python3"
  },
  "language_info": {
   "codemirror_mode": {
    "name": "ipython",
    "version": 3
   },
   "file_extension": ".py",
   "mimetype": "text/x-python",
   "name": "python",
   "nbconvert_exporter": "python",
   "pygments_lexer": "ipython3",
   "version": "3.13.0"
  }
 },
 "nbformat": 4,
 "nbformat_minor": 2
}
