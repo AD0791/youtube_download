{
 "cells": [
  {
   "cell_type": "code",
   "execution_count": 23,
   "metadata": {},
   "outputs": [],
   "source": [
    "from pytubefix import YouTube, Playlist\n",
    "from pytubefix.cli import on_progress"
   ]
  },
  {
   "cell_type": "code",
   "execution_count": 17,
   "metadata": {},
   "outputs": [
    {
     "name": "stdout",
     "output_type": "stream",
     "text": [
      "Learn TypeScript - Full Course for Beginners\n",
      "360p████████████████████████████████████████████| 100.0%\n"
     ]
    }
   ],
   "source": [
    "\n",
    " \n",
    "url = \"https://www.youtube.com/watch?v=SpwzRDUQ1GI&list=LL\"\n",
    " \n",
    "yt = YouTube(url, on_progress_callback = on_progress)\n",
    "print(yt.title)\n",
    " \n",
    "ys = yt.streams.get_highest_resolution()\n",
    "\n",
    "#ys.download('./typescript')\n",
    "print(ys.resolution)"
   ]
  },
  {
   "cell_type": "code",
   "execution_count": 25,
   "metadata": {},
   "outputs": [
    {
     "name": "stdout",
     "output_type": "stream",
     "text": [
      "Homelab Monitoring Made Easy - Part 1 Tools Overview - Grafana, Prometheus, InfluxDB, Telegraf\n",
      "360p ███████████████████████████████████████████| 100.0%\n",
      "\n"
     ]
    }
   ],
   "source": [
    "\n",
    "url = \"https://www.youtube.com/watch?v=LShvy9l3tzs\"\n",
    " \n",
    "yt = YouTube(url, on_progress_callback = on_progress)\n",
    "print(yt.title)\n",
    " \n",
    "ys = yt.streams.get_highest_resolution()\n",
    "\n",
    "ys.download('./grafanaprometheustelegraf')\n",
    "print(ys.resolution, \"\\n\")"
   ]
  },
  {
   "cell_type": "code",
   "execution_count": 26,
   "metadata": {},
   "outputs": [
    {
     "name": "stdout",
     "output_type": "stream",
     "text": [
      "Homelab Monitoring Made Easy - Part 2 Creating Dashboards For Docker, Crowdsec, and Sophos XG\n",
      "360p ███████████████████████████████████████████| 100.0%\n",
      "\n"
     ]
    }
   ],
   "source": [
    "\n",
    "url = \"https://www.youtube.com/watch?v=Yr9-QMa7JHw\"\n",
    " \n",
    "yt = YouTube(url, on_progress_callback = on_progress)\n",
    "print(yt.title)\n",
    " \n",
    "ys = yt.streams.get_highest_resolution()\n",
    "\n",
    "ys.download('./grafanaprometheustelegraf')\n",
    "print(ys.resolution, \"\\n\")"
   ]
  },
  {
   "cell_type": "markdown",
   "metadata": {},
   "source": [
    "## Playlist"
   ]
  },
  {
   "cell_type": "code",
   "execution_count": null,
   "metadata": {},
   "outputs": [],
   "source": [
    "\n",
    "url = \"https://www.youtube.com/playlist?list=PL4cUxeGkcC9hcnIeryurNMMcGBHp7AYlP\"\n",
    "\n",
    "pl = Playlist(url)\n",
    "\n",
    "\n",
    "\n",
    "for video in pl.videos:\n",
    "    ys = video.streams.get_highest_resolution()\n",
    "#    ys.download('./chakraui')"
   ]
  },
  {
   "cell_type": "code",
   "execution_count": null,
   "metadata": {},
   "outputs": [],
   "source": []
  }
 ],
 "metadata": {
  "kernelspec": {
   "display_name": "Python 3",
   "language": "python",
   "name": "python3"
  },
  "language_info": {
   "codemirror_mode": {
    "name": "ipython",
    "version": 3
   },
   "file_extension": ".py",
   "mimetype": "text/x-python",
   "name": "python",
   "nbconvert_exporter": "python",
   "pygments_lexer": "ipython3",
   "version": "3.12.5"
  }
 },
 "nbformat": 4,
 "nbformat_minor": 2
}
